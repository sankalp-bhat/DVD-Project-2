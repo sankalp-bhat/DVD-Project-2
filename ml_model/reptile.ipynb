{
 "cells": [
  {
   "cell_type": "markdown",
   "metadata": {},
   "source": [
    "# Reptile"
   ]
  },
  {
   "cell_type": "code",
   "execution_count": 80,
   "metadata": {},
   "outputs": [],
   "source": [
    "# %pip install tensorflow"
   ]
  },
  {
   "cell_type": "markdown",
   "metadata": {},
   "source": [
    "## Importing Libraries"
   ]
  },
  {
   "cell_type": "code",
   "execution_count": 81,
   "metadata": {
    "collapsed": true
   },
   "outputs": [],
   "source": [
    "# import tensorflow as tf\n",
    "import numpy as np\n",
    "import pandas as pd\n",
    "import matplotlib.pyplot as plt\n",
    "from sklearn.metrics import r2_score\n",
    "from sklearn.preprocessing import StandardScaler\n",
    "import tensorflow.compat.v1 as tf\n",
    "tf.disable_v2_behavior()"
   ]
  },
  {
   "cell_type": "code",
   "execution_count": 82,
   "metadata": {},
   "outputs": [],
   "source": [
    "import os\n",
    "os.environ['TF_CPP_MIN_LOG_LEVEL'] = '2'  # Suppress TensorFlow info messages\n"
   ]
  },
  {
   "cell_type": "markdown",
   "metadata": {},
   "source": [
    "## Loading Data"
   ]
  },
  {
   "cell_type": "code",
   "execution_count": 83,
   "metadata": {},
   "outputs": [],
   "source": [
    "df = pd.read_csv('../22_HP/outputs/simulation_results_not.csv')"
   ]
  },
  {
   "cell_type": "code",
   "execution_count": 84,
   "metadata": {},
   "outputs": [],
   "source": [
    "df = df.drop(columns = ['delay_LH_NodeA', 'delay_HL_NodeA'], axis=1)"
   ]
  },
  {
   "cell_type": "code",
   "execution_count": 85,
   "metadata": {},
   "outputs": [
    {
     "data": {
      "text/html": [
       "<div>\n",
       "<style scoped>\n",
       "    .dataframe tbody tr th:only-of-type {\n",
       "        vertical-align: middle;\n",
       "    }\n",
       "\n",
       "    .dataframe tbody tr th {\n",
       "        vertical-align: top;\n",
       "    }\n",
       "\n",
       "    .dataframe thead th {\n",
       "        text-align: right;\n",
       "    }\n",
       "</style>\n",
       "<table border=\"1\" class=\"dataframe\">\n",
       "  <thead>\n",
       "    <tr style=\"text-align: right;\">\n",
       "      <th></th>\n",
       "      <th>Vin</th>\n",
       "      <th>temp</th>\n",
       "      <th>pvdd</th>\n",
       "      <th>cqload</th>\n",
       "      <th>lmin</th>\n",
       "      <th>wmin</th>\n",
       "      <th>toxe_n</th>\n",
       "      <th>toxm_n</th>\n",
       "      <th>toxref_n</th>\n",
       "      <th>toxe_p</th>\n",
       "      <th>toxm_p</th>\n",
       "      <th>toxref_p</th>\n",
       "      <th>toxp_par</th>\n",
       "      <th>xj_n</th>\n",
       "      <th>xj_p</th>\n",
       "      <th>ndep_n</th>\n",
       "      <th>ndep_p</th>\n",
       "      <th>leakage</th>\n",
       "    </tr>\n",
       "  </thead>\n",
       "  <tbody>\n",
       "    <tr>\n",
       "      <th>0</th>\n",
       "      <td>0.0</td>\n",
       "      <td>43.786431</td>\n",
       "      <td>1.049654</td>\n",
       "      <td>1.992558e-16</td>\n",
       "      <td>4.422860e-08</td>\n",
       "      <td>4.335549e-08</td>\n",
       "      <td>8.858098e-10</td>\n",
       "      <td>9.149308e-10</td>\n",
       "      <td>8.800085e-10</td>\n",
       "      <td>9.382331e-10</td>\n",
       "      <td>9.149568e-10</td>\n",
       "      <td>9.596845e-10</td>\n",
       "      <td>6.400032e-10</td>\n",
       "      <td>1.438907e-08</td>\n",
       "      <td>1.434486e-08</td>\n",
       "      <td>6.530156e+18</td>\n",
       "      <td>2.751990e+18</td>\n",
       "      <td>5.986455e-09</td>\n",
       "    </tr>\n",
       "    <tr>\n",
       "      <th>1</th>\n",
       "      <td>1.0</td>\n",
       "      <td>43.786431</td>\n",
       "      <td>1.049654</td>\n",
       "      <td>1.992558e-16</td>\n",
       "      <td>4.422860e-08</td>\n",
       "      <td>4.335549e-08</td>\n",
       "      <td>8.858098e-10</td>\n",
       "      <td>9.149308e-10</td>\n",
       "      <td>8.800085e-10</td>\n",
       "      <td>9.382331e-10</td>\n",
       "      <td>9.149568e-10</td>\n",
       "      <td>9.596845e-10</td>\n",
       "      <td>6.400032e-10</td>\n",
       "      <td>1.438907e-08</td>\n",
       "      <td>1.434486e-08</td>\n",
       "      <td>6.530156e+18</td>\n",
       "      <td>2.751990e+18</td>\n",
       "      <td>6.874093e-09</td>\n",
       "    </tr>\n",
       "    <tr>\n",
       "      <th>2</th>\n",
       "      <td>0.0</td>\n",
       "      <td>73.734086</td>\n",
       "      <td>0.936041</td>\n",
       "      <td>1.703362e-15</td>\n",
       "      <td>4.468047e-08</td>\n",
       "      <td>4.295989e-08</td>\n",
       "      <td>8.966653e-10</td>\n",
       "      <td>9.579161e-10</td>\n",
       "      <td>8.894931e-10</td>\n",
       "      <td>9.051161e-10</td>\n",
       "      <td>8.974949e-10</td>\n",
       "      <td>9.112459e-10</td>\n",
       "      <td>6.536598e-10</td>\n",
       "      <td>1.335243e-08</td>\n",
       "      <td>1.435760e-08</td>\n",
       "      <td>6.696820e+18</td>\n",
       "      <td>2.698271e+18</td>\n",
       "      <td>5.237383e-09</td>\n",
       "    </tr>\n",
       "    <tr>\n",
       "      <th>3</th>\n",
       "      <td>1.0</td>\n",
       "      <td>73.734086</td>\n",
       "      <td>0.936041</td>\n",
       "      <td>1.703362e-15</td>\n",
       "      <td>4.468047e-08</td>\n",
       "      <td>4.295989e-08</td>\n",
       "      <td>8.966653e-10</td>\n",
       "      <td>9.579161e-10</td>\n",
       "      <td>8.894931e-10</td>\n",
       "      <td>9.051161e-10</td>\n",
       "      <td>8.974949e-10</td>\n",
       "      <td>9.112459e-10</td>\n",
       "      <td>6.536598e-10</td>\n",
       "      <td>1.335243e-08</td>\n",
       "      <td>1.435760e-08</td>\n",
       "      <td>6.696820e+18</td>\n",
       "      <td>2.698271e+18</td>\n",
       "      <td>2.260783e-09</td>\n",
       "    </tr>\n",
       "    <tr>\n",
       "      <th>4</th>\n",
       "      <td>0.0</td>\n",
       "      <td>53.497408</td>\n",
       "      <td>0.977805</td>\n",
       "      <td>2.900497e-15</td>\n",
       "      <td>4.542734e-08</td>\n",
       "      <td>4.700461e-08</td>\n",
       "      <td>8.951004e-10</td>\n",
       "      <td>9.207174e-10</td>\n",
       "      <td>8.560222e-10</td>\n",
       "      <td>9.582987e-10</td>\n",
       "      <td>9.510320e-10</td>\n",
       "      <td>9.448349e-10</td>\n",
       "      <td>6.471342e-10</td>\n",
       "      <td>1.439416e-08</td>\n",
       "      <td>1.428137e-08</td>\n",
       "      <td>6.482726e+18</td>\n",
       "      <td>2.732484e+18</td>\n",
       "      <td>3.193491e-09</td>\n",
       "    </tr>\n",
       "    <tr>\n",
       "      <th>...</th>\n",
       "      <td>...</td>\n",
       "      <td>...</td>\n",
       "      <td>...</td>\n",
       "      <td>...</td>\n",
       "      <td>...</td>\n",
       "      <td>...</td>\n",
       "      <td>...</td>\n",
       "      <td>...</td>\n",
       "      <td>...</td>\n",
       "      <td>...</td>\n",
       "      <td>...</td>\n",
       "      <td>...</td>\n",
       "      <td>...</td>\n",
       "      <td>...</td>\n",
       "      <td>...</td>\n",
       "      <td>...</td>\n",
       "      <td>...</td>\n",
       "      <td>...</td>\n",
       "    </tr>\n",
       "    <tr>\n",
       "      <th>19995</th>\n",
       "      <td>1.0</td>\n",
       "      <td>81.517314</td>\n",
       "      <td>0.989291</td>\n",
       "      <td>1.079963e-15</td>\n",
       "      <td>4.737492e-08</td>\n",
       "      <td>4.576390e-08</td>\n",
       "      <td>9.024798e-10</td>\n",
       "      <td>8.716992e-10</td>\n",
       "      <td>8.717394e-10</td>\n",
       "      <td>9.042821e-10</td>\n",
       "      <td>9.679145e-10</td>\n",
       "      <td>8.903566e-10</td>\n",
       "      <td>6.401357e-10</td>\n",
       "      <td>1.417753e-08</td>\n",
       "      <td>1.408925e-08</td>\n",
       "      <td>6.055804e+18</td>\n",
       "      <td>2.983100e+18</td>\n",
       "      <td>4.747108e-09</td>\n",
       "    </tr>\n",
       "    <tr>\n",
       "      <th>19996</th>\n",
       "      <td>0.0</td>\n",
       "      <td>-50.718263</td>\n",
       "      <td>0.972025</td>\n",
       "      <td>2.675348e-15</td>\n",
       "      <td>4.308545e-08</td>\n",
       "      <td>4.571994e-08</td>\n",
       "      <td>9.087048e-10</td>\n",
       "      <td>8.717162e-10</td>\n",
       "      <td>9.293734e-10</td>\n",
       "      <td>9.071626e-10</td>\n",
       "      <td>8.870402e-10</td>\n",
       "      <td>8.568218e-10</td>\n",
       "      <td>6.378137e-10</td>\n",
       "      <td>1.345592e-08</td>\n",
       "      <td>1.464451e-08</td>\n",
       "      <td>6.590675e+18</td>\n",
       "      <td>2.836970e+18</td>\n",
       "      <td>3.449923e-09</td>\n",
       "    </tr>\n",
       "    <tr>\n",
       "      <th>19997</th>\n",
       "      <td>1.0</td>\n",
       "      <td>-50.718263</td>\n",
       "      <td>0.972025</td>\n",
       "      <td>2.675348e-15</td>\n",
       "      <td>4.308545e-08</td>\n",
       "      <td>4.571994e-08</td>\n",
       "      <td>9.087048e-10</td>\n",
       "      <td>8.717162e-10</td>\n",
       "      <td>9.293734e-10</td>\n",
       "      <td>9.071626e-10</td>\n",
       "      <td>8.870402e-10</td>\n",
       "      <td>8.568218e-10</td>\n",
       "      <td>6.378137e-10</td>\n",
       "      <td>1.345592e-08</td>\n",
       "      <td>1.464451e-08</td>\n",
       "      <td>6.590675e+18</td>\n",
       "      <td>2.836970e+18</td>\n",
       "      <td>1.367183e-09</td>\n",
       "    </tr>\n",
       "    <tr>\n",
       "      <th>19998</th>\n",
       "      <td>0.0</td>\n",
       "      <td>91.443514</td>\n",
       "      <td>1.025177</td>\n",
       "      <td>3.572204e-15</td>\n",
       "      <td>4.552864e-08</td>\n",
       "      <td>4.697390e-08</td>\n",
       "      <td>9.045228e-10</td>\n",
       "      <td>8.774425e-10</td>\n",
       "      <td>8.855997e-10</td>\n",
       "      <td>9.384903e-10</td>\n",
       "      <td>9.221000e-10</td>\n",
       "      <td>9.031884e-10</td>\n",
       "      <td>6.682387e-10</td>\n",
       "      <td>1.456677e-08</td>\n",
       "      <td>1.477978e-08</td>\n",
       "      <td>6.233399e+18</td>\n",
       "      <td>2.980221e+18</td>\n",
       "      <td>7.537069e-09</td>\n",
       "    </tr>\n",
       "    <tr>\n",
       "      <th>19999</th>\n",
       "      <td>1.0</td>\n",
       "      <td>91.443514</td>\n",
       "      <td>1.025177</td>\n",
       "      <td>3.572204e-15</td>\n",
       "      <td>4.552864e-08</td>\n",
       "      <td>4.697390e-08</td>\n",
       "      <td>9.045228e-10</td>\n",
       "      <td>8.774425e-10</td>\n",
       "      <td>8.855997e-10</td>\n",
       "      <td>9.384903e-10</td>\n",
       "      <td>9.221000e-10</td>\n",
       "      <td>9.031884e-10</td>\n",
       "      <td>6.682387e-10</td>\n",
       "      <td>1.456677e-08</td>\n",
       "      <td>1.477978e-08</td>\n",
       "      <td>6.233399e+18</td>\n",
       "      <td>2.980221e+18</td>\n",
       "      <td>8.286091e-09</td>\n",
       "    </tr>\n",
       "  </tbody>\n",
       "</table>\n",
       "<p>20000 rows × 18 columns</p>\n",
       "</div>"
      ],
      "text/plain": [
       "       Vin       temp      pvdd        cqload          lmin          wmin  \\\n",
       "0      0.0  43.786431  1.049654  1.992558e-16  4.422860e-08  4.335549e-08   \n",
       "1      1.0  43.786431  1.049654  1.992558e-16  4.422860e-08  4.335549e-08   \n",
       "2      0.0  73.734086  0.936041  1.703362e-15  4.468047e-08  4.295989e-08   \n",
       "3      1.0  73.734086  0.936041  1.703362e-15  4.468047e-08  4.295989e-08   \n",
       "4      0.0  53.497408  0.977805  2.900497e-15  4.542734e-08  4.700461e-08   \n",
       "...    ...        ...       ...           ...           ...           ...   \n",
       "19995  1.0  81.517314  0.989291  1.079963e-15  4.737492e-08  4.576390e-08   \n",
       "19996  0.0 -50.718263  0.972025  2.675348e-15  4.308545e-08  4.571994e-08   \n",
       "19997  1.0 -50.718263  0.972025  2.675348e-15  4.308545e-08  4.571994e-08   \n",
       "19998  0.0  91.443514  1.025177  3.572204e-15  4.552864e-08  4.697390e-08   \n",
       "19999  1.0  91.443514  1.025177  3.572204e-15  4.552864e-08  4.697390e-08   \n",
       "\n",
       "             toxe_n        toxm_n      toxref_n        toxe_p        toxm_p  \\\n",
       "0      8.858098e-10  9.149308e-10  8.800085e-10  9.382331e-10  9.149568e-10   \n",
       "1      8.858098e-10  9.149308e-10  8.800085e-10  9.382331e-10  9.149568e-10   \n",
       "2      8.966653e-10  9.579161e-10  8.894931e-10  9.051161e-10  8.974949e-10   \n",
       "3      8.966653e-10  9.579161e-10  8.894931e-10  9.051161e-10  8.974949e-10   \n",
       "4      8.951004e-10  9.207174e-10  8.560222e-10  9.582987e-10  9.510320e-10   \n",
       "...             ...           ...           ...           ...           ...   \n",
       "19995  9.024798e-10  8.716992e-10  8.717394e-10  9.042821e-10  9.679145e-10   \n",
       "19996  9.087048e-10  8.717162e-10  9.293734e-10  9.071626e-10  8.870402e-10   \n",
       "19997  9.087048e-10  8.717162e-10  9.293734e-10  9.071626e-10  8.870402e-10   \n",
       "19998  9.045228e-10  8.774425e-10  8.855997e-10  9.384903e-10  9.221000e-10   \n",
       "19999  9.045228e-10  8.774425e-10  8.855997e-10  9.384903e-10  9.221000e-10   \n",
       "\n",
       "           toxref_p      toxp_par          xj_n          xj_p        ndep_n  \\\n",
       "0      9.596845e-10  6.400032e-10  1.438907e-08  1.434486e-08  6.530156e+18   \n",
       "1      9.596845e-10  6.400032e-10  1.438907e-08  1.434486e-08  6.530156e+18   \n",
       "2      9.112459e-10  6.536598e-10  1.335243e-08  1.435760e-08  6.696820e+18   \n",
       "3      9.112459e-10  6.536598e-10  1.335243e-08  1.435760e-08  6.696820e+18   \n",
       "4      9.448349e-10  6.471342e-10  1.439416e-08  1.428137e-08  6.482726e+18   \n",
       "...             ...           ...           ...           ...           ...   \n",
       "19995  8.903566e-10  6.401357e-10  1.417753e-08  1.408925e-08  6.055804e+18   \n",
       "19996  8.568218e-10  6.378137e-10  1.345592e-08  1.464451e-08  6.590675e+18   \n",
       "19997  8.568218e-10  6.378137e-10  1.345592e-08  1.464451e-08  6.590675e+18   \n",
       "19998  9.031884e-10  6.682387e-10  1.456677e-08  1.477978e-08  6.233399e+18   \n",
       "19999  9.031884e-10  6.682387e-10  1.456677e-08  1.477978e-08  6.233399e+18   \n",
       "\n",
       "             ndep_p       leakage  \n",
       "0      2.751990e+18  5.986455e-09  \n",
       "1      2.751990e+18  6.874093e-09  \n",
       "2      2.698271e+18  5.237383e-09  \n",
       "3      2.698271e+18  2.260783e-09  \n",
       "4      2.732484e+18  3.193491e-09  \n",
       "...             ...           ...  \n",
       "19995  2.983100e+18  4.747108e-09  \n",
       "19996  2.836970e+18  3.449923e-09  \n",
       "19997  2.836970e+18  1.367183e-09  \n",
       "19998  2.980221e+18  7.537069e-09  \n",
       "19999  2.980221e+18  8.286091e-09  \n",
       "\n",
       "[20000 rows x 18 columns]"
      ]
     },
     "execution_count": 85,
     "metadata": {},
     "output_type": "execute_result"
    }
   ],
   "source": [
    "df"
   ]
  },
  {
   "cell_type": "code",
   "execution_count": 86,
   "metadata": {},
   "outputs": [],
   "source": [
    "# Normalize data\n",
    "scaler = StandardScaler()"
   ]
  },
  {
   "cell_type": "code",
   "execution_count": 87,
   "metadata": {},
   "outputs": [
    {
     "data": {
      "text/plain": [
       "(20000, 17)"
      ]
     },
     "execution_count": 87,
     "metadata": {},
     "output_type": "execute_result"
    }
   ],
   "source": [
    "x = df.drop('leakage', axis=1)\n",
    "x.shape"
   ]
  },
  {
   "cell_type": "code",
   "execution_count": 88,
   "metadata": {},
   "outputs": [
    {
     "name": "stdout",
     "output_type": "stream",
     "text": [
      "[-1.          0.18078805  0.86864689 -1.61154477 -0.5423984  -1.1100848\n",
      " -0.48642597  0.5056319  -0.67856217  0.59256723 -0.1722708   1.26269638\n",
      " -0.46089947  0.84367392  0.72033654  0.14908407 -0.5150728 ]\n"
     ]
    }
   ],
   "source": [
    "x = scaler.fit_transform(x.values)\n",
    "print(x[0])"
   ]
  },
  {
   "cell_type": "code",
   "execution_count": 89,
   "metadata": {},
   "outputs": [
    {
     "data": {
      "text/plain": [
       "(20000, 1)"
      ]
     },
     "execution_count": 89,
     "metadata": {},
     "output_type": "execute_result"
    }
   ],
   "source": [
    "y = pd.DataFrame(df['leakage'])\n",
    "y = scaler.fit_transform(y.values.reshape(-1, 1) )\n",
    "y.shape"
   ]
  },
  {
   "cell_type": "code",
   "execution_count": 90,
   "metadata": {},
   "outputs": [
    {
     "name": "stdout",
     "output_type": "stream",
     "text": [
      "[-0.09899045]\n"
     ]
    }
   ],
   "source": [
    "print(y[0])"
   ]
  },
  {
   "cell_type": "markdown",
   "metadata": {},
   "source": [
    "First, let's reset the tensorflow graph,"
   ]
  },
  {
   "cell_type": "code",
   "execution_count": 91,
   "metadata": {
    "collapsed": true
   },
   "outputs": [],
   "source": [
    "tf.compat.v1.reset_default_graph()"
   ]
  },
  {
   "cell_type": "markdown",
   "metadata": {},
   "source": [
    "Initialize network parameters,"
   ]
  },
  {
   "cell_type": "code",
   "execution_count": 92,
   "metadata": {},
   "outputs": [],
   "source": [
    "num_hidden = 100"
   ]
  },
  {
   "cell_type": "code",
   "execution_count": 93,
   "metadata": {
    "collapsed": true
   },
   "outputs": [],
   "source": [
    "num_classes = 1\n",
    "num_feature = x.shape[1]"
   ]
  },
  {
   "cell_type": "markdown",
   "metadata": {},
   "source": [
    "Next, we define the placeholders for our input and output,"
   ]
  },
  {
   "cell_type": "code",
   "execution_count": 94,
   "metadata": {
    "collapsed": true
   },
   "outputs": [],
   "source": [
    "X = tf.placeholder(tf.float32, shape=[None, num_feature])\n",
    "Y = tf.placeholder(tf.float32, shape=[None, num_classes])"
   ]
  },
  {
   "cell_type": "markdown",
   "metadata": {},
   "source": [
    "Randomly initialize our model parameters, "
   ]
  },
  {
   "cell_type": "code",
   "execution_count": 95,
   "metadata": {
    "collapsed": true
   },
   "outputs": [],
   "source": [
    "w1 = tf.Variable(tf.random_uniform([num_feature, num_hidden]))\n",
    "b1 = tf.Variable(tf.random_uniform([num_hidden]))\n",
    "\n",
    "w2 = tf.Variable(tf.random_uniform([num_hidden, num_classes]))\n",
    "b2 = tf.Variable(tf.random_uniform([num_classes]))"
   ]
  },
  {
   "cell_type": "markdown",
   "metadata": {},
   "source": [
    "Perform feedforward operation to predict the output Yhat"
   ]
  },
  {
   "cell_type": "code",
   "execution_count": 96,
   "metadata": {
    "collapsed": true
   },
   "outputs": [],
   "source": [
    "#layer 1\n",
    "z1 = tf.matmul(X, w1) + b1\n",
    "a1 = tf.nn.tanh(z1)\n",
    "\n",
    "#output layer\n",
    "z2 = tf.matmul(a1, w2) + b2\n",
    "Yhat = z2 "
   ]
  },
  {
   "cell_type": "markdown",
   "metadata": {},
   "source": [
    "We use mean squared error as our loss function"
   ]
  },
  {
   "cell_type": "code",
   "execution_count": 97,
   "metadata": {
    "collapsed": true
   },
   "outputs": [],
   "source": [
    "loss_function = tf.reduce_mean(tf.square(Yhat - Y))"
   ]
  },
  {
   "cell_type": "markdown",
   "metadata": {},
   "source": [
    "Minimize the loss using Adam Optimizer"
   ]
  },
  {
   "cell_type": "code",
   "execution_count": 98,
   "metadata": {
    "collapsed": true
   },
   "outputs": [],
   "source": [
    "optimizer = tf.train.AdamOptimizer(1e-2).minimize(loss_function)"
   ]
  },
  {
   "cell_type": "markdown",
   "metadata": {},
   "source": [
    "Initialize tensorflow variables,"
   ]
  },
  {
   "cell_type": "code",
   "execution_count": 99,
   "metadata": {
    "collapsed": true
   },
   "outputs": [],
   "source": [
    "init = tf.global_variables_initializer()"
   ]
  },
  {
   "cell_type": "markdown",
   "metadata": {},
   "source": [
    "### Single Hidden Layer"
   ]
  },
  {
   "cell_type": "code",
   "execution_count": 100,
   "metadata": {
    "collapsed": true
   },
   "outputs": [],
   "source": [
    "#number of epochs i.e training iterations\n",
    "num_epochs = 50\n",
    "\n",
    "\n",
    "#number of samples i.e number of shots\n",
    "num_samples = 100 \n",
    "\n",
    "#number of tasks\n",
    "num_tasks = 5\n",
    "\n",
    "#number of times we want to perform optimization\n",
    "num_iterations = 10\n",
    "\n",
    "\n",
    "#mini btach size\n",
    "mini_batch = 20"
   ]
  },
  {
   "cell_type": "code",
   "execution_count": 101,
   "metadata": {},
   "outputs": [
    {
     "name": "stdout",
     "output_type": "stream",
     "text": [
      "Epoch 0: Loss 0.41875556111335754, R2 Score 0.4325443018539237\n",
      "\n",
      "---------------------------------\n",
      "\n",
      "Epoch 10: Loss 0.010452327318489552, R2 Score 0.9914238201514012\n",
      "\n",
      "---------------------------------\n",
      "\n",
      "Epoch 20: Loss 0.0011798469349741936, R2 Score 0.9987533302324691\n",
      "\n",
      "---------------------------------\n",
      "\n",
      "Epoch 30: Loss 0.02870677225291729, R2 Score 0.9795232463378727\n",
      "\n",
      "---------------------------------\n",
      "\n",
      "Epoch 40: Loss 0.0016051646089181304, R2 Score 0.9984432658838474\n",
      "\n",
      "---------------------------------\n",
      "\n"
     ]
    }
   ],
   "source": [
    "losses = []\n",
    "r2_scores = []\n",
    "\n",
    "with tf.Session() as sess:\n",
    "    sess.run(init)\n",
    "    \n",
    "    for e in range(num_epochs+1):\n",
    "        for _ in range(num_tasks+1):\n",
    "\n",
    "            task_indices = np.random.choice(len(x), size=num_samples, replace=False)\n",
    "            x_sample_task = x[task_indices]\n",
    "            y_sample_task = y[task_indices]\n",
    "\n",
    "            # Randomly initialize weights (w) for each task\n",
    "            w1 = tf.Variable(tf.random_uniform([num_feature, num_hidden]))\n",
    "            b1 = tf.Variable(tf.random_uniform([num_hidden]))\n",
    "\n",
    "            w2 = tf.Variable(tf.random_uniform([num_hidden, num_classes]))\n",
    "            b2 = tf.Variable(tf.random_uniform([num_classes]))\n",
    "            \n",
    "            sess.run(tf.variables_initializer([w1, b1, w2, b2]))\n",
    "\n",
    "            for _ in range(num_iterations):\n",
    "                for i in range(0, num_samples, mini_batch):\n",
    "                    x_minibatch = x_sample_task[i:i+mini_batch]\n",
    "                    y_minibatch = y_sample_task[i:i+mini_batch]\n",
    "                    sess.run(optimizer, feed_dict={X: x_minibatch, Y: y_minibatch})\n",
    "            \n",
    "            # Get the updated weights after SGD on the task\n",
    "            old_w1, old_b1, old_w2, old_b2 = sess.run([w1, b1, w2, b2])\n",
    "\n",
    "            # Perform meta update\n",
    "            epsilon = 0.1\n",
    "            updated_w1 = old_w1 + epsilon * (w1 - old_w1)\n",
    "            updated_b1 = old_b1 + epsilon * (b1 - old_b1)\n",
    "            updated_w2 = old_w2 + epsilon * (w2 - old_w2)\n",
    "            updated_b2 = old_b2 + epsilon * (b2 - old_b2)\n",
    "\n",
    "            # Update the model parameters with new parameters\n",
    "            sess.run([w1.assign(updated_w1), b1.assign(updated_b1),\n",
    "                      w2.assign(updated_w2), b2.assign(updated_b2)])\n",
    "        \n",
    "        loss = sess.run(loss_function, feed_dict={X: x_sample_task, Y: y_sample_task})\n",
    "        losses.append(loss)\n",
    "            \n",
    "        # Calculate R2 score\n",
    "        y_pred = sess.run(Yhat, feed_dict={X: x_sample_task})\n",
    "        r2 = r2_score(y_sample_task, y_pred)\n",
    "        r2_scores.append(r2)\n",
    "        \n",
    "        if e % 10 == 0:\n",
    "            print(\"Epoch {}: Loss {}, R2 Score {}\\n\".format(e, loss, r2))\n",
    "            print('---------------------------------\\n')"
   ]
  },
  {
   "cell_type": "code",
   "execution_count": null,
   "metadata": {},
   "outputs": [
    {
     "data": {
      "image/png": "[encoded data removed]",
      "text/plain": [
       "<Figure size 1000x500 with 2 Axes>"
      ]
     },
     "metadata": {},
     "output_type": "display_data"
    }
   ],
   "source": [
    "# Plot the training loop\n",
    "plt.figure(figsize=(10, 5))\n",
    "plt.subplot(1, 2, 1)\n",
    "plt.plot(range(num_epochs), losses, label='Loss')\n",
    "plt.xlabel('Epochs')\n",
    "plt.ylabel('Loss')\n",
    "plt.title('Training Loss')\n",
    "plt.legend()\n",
    "\n",
    "plt.subplot(1, 2, 2)\n",
    "plt.plot(range(num_epochs), r2_scores, label='R2 Score', color='orange')\n",
    "plt.xlabel('Epochs')\n",
    "plt.ylabel('R2 Score')\n",
    "plt.title('R2 Score during Training')\n",
    "plt.legend()\n",
    "\n",
    "plt.tight_layout()\n",
    "plt.show()"
   ]
  },
  {
   "cell_type": "markdown",
   "metadata": {},
   "source": [
    "### 3 Hidden Layers"
   ]
  },
  {
   "cell_type": "code",
   "execution_count": null,
   "metadata": {},
   "outputs": [],
   "source": [
    "# Initialize network parameters\n",
    "num_hidden_layers = 2\n",
    "num_hidden_units = 10\n",
    "num_classes = 1\n",
    "num_feature = x.shape[1]\n",
    "\n",
    "# Reset the tensorflow graph\n",
    "tf.compat.v1.reset_default_graph()\n",
    "\n",
    "# Define placeholders for input and output\n",
    "X = tf.placeholder(tf.float32, shape=[None, num_feature])\n",
    "Y = tf.placeholder(tf.float32, shape=[None, num_classes])\n",
    "\n",
    "# Initialize model parameters for each layer\n",
    "weights = [tf.Variable(tf.random_uniform([num_feature if i == 0 else num_hidden_units,\n",
    "                                         num_hidden_units if i < num_hidden_layers else num_classes]))\n",
    "           for i in range(num_hidden_layers + 1)]\n",
    "biases = [tf.Variable(tf.random_uniform([num_hidden_units if i < num_hidden_layers else num_classes]))\n",
    "          for i in range(num_hidden_layers + 1)]\n",
    "\n",
    "# Perform feedforward operations for each layer\n",
    "layer_outputs = [X]\n",
    "for i in range(num_hidden_layers + 1):\n",
    "    layer_input = layer_outputs[-1]\n",
    "    layer_output = tf.matmul(layer_input, weights[i]) + biases[i]\n",
    "    layer_output = tf.nn.tanh(layer_output) if i < num_hidden_layers else layer_output\n",
    "    layer_outputs.append(layer_output)\n",
    "\n",
    "# Output of the neural network\n",
    "Yhat = layer_outputs[-1]\n",
    "\n",
    "# Loss function and optimizer\n",
    "loss_function = tf.reduce_mean(tf.square(Yhat - Y))\n",
    "optimizer = tf.train.AdamOptimizer(1e-2).minimize(loss_function)\n",
    "\n",
    "# Initialize tensorflow variables\n",
    "init = tf.global_variables_initializer()\n",
    "\n",
    "# Training parameters\n",
    "num_epochs = 50\n",
    "num_samples = 100\n",
    "num_tasks = 5\n",
    "num_iterations = 10\n",
    "mini_batch = 20\n",
    "epsilon = 0.1  # Reptile update factor"
   ]
  },
  {
   "cell_type": "code",
   "execution_count": null,
   "metadata": {},
   "outputs": [
    {
     "name": "stdout",
     "output_type": "stream",
     "text": [
      "Epoch 0: Loss 0.34949448704719543, R2 Score 0.3791835027512742\n",
      "\n",
      "---------------------------------\n",
      "\n"
     ]
    },
    {
     "ename": "KeyboardInterrupt",
     "evalue": "",
     "output_type": "error",
     "traceback": [
      "\u001b[0;31m---------------------------------------------------------------------------\u001b[0m",
      "\u001b[0;31mKeyboardInterrupt\u001b[0m                         Traceback (most recent call last)",
      "\u001b[1;32m/home/shreeya/acad/4-2/dvd/project/mine/DVD-Project-2/ml_model/reptile.ipynb Cell 38\u001b[0m line \u001b[0;36m2\n\u001b[1;32m     <a href='vscode-notebook-cell:/home/shreeya/acad/4-2/dvd/project/mine/DVD-Project-2/ml_model/reptile.ipynb#X64sZmlsZQ%3D%3D?line=18'>19</a>\u001b[0m weights_task \u001b[39m=\u001b[39m [tf\u001b[39m.\u001b[39mVariable(tf\u001b[39m.\u001b[39mrandom_uniform([num_feature \u001b[39mif\u001b[39;00m i \u001b[39m==\u001b[39m \u001b[39m0\u001b[39m \u001b[39melse\u001b[39;00m num_hidden_units,\n\u001b[1;32m     <a href='vscode-notebook-cell:/home/shreeya/acad/4-2/dvd/project/mine/DVD-Project-2/ml_model/reptile.ipynb#X64sZmlsZQ%3D%3D?line=19'>20</a>\u001b[0m                                                num_hidden_units \u001b[39mif\u001b[39;00m i \u001b[39m<\u001b[39m num_hidden_layers \u001b[39melse\u001b[39;00m num_classes]))\n\u001b[1;32m     <a href='vscode-notebook-cell:/home/shreeya/acad/4-2/dvd/project/mine/DVD-Project-2/ml_model/reptile.ipynb#X64sZmlsZQ%3D%3D?line=20'>21</a>\u001b[0m                 \u001b[39mfor\u001b[39;00m i \u001b[39min\u001b[39;00m \u001b[39mrange\u001b[39m(num_hidden_layers \u001b[39m+\u001b[39m \u001b[39m1\u001b[39m)]\n\u001b[1;32m     <a href='vscode-notebook-cell:/home/shreeya/acad/4-2/dvd/project/mine/DVD-Project-2/ml_model/reptile.ipynb#X64sZmlsZQ%3D%3D?line=21'>22</a>\u001b[0m biases_task \u001b[39m=\u001b[39m [tf\u001b[39m.\u001b[39mVariable(tf\u001b[39m.\u001b[39mrandom_uniform([num_hidden_units \u001b[39mif\u001b[39;00m i \u001b[39m<\u001b[39m num_hidden_layers \u001b[39melse\u001b[39;00m num_classes]))\n\u001b[1;32m     <a href='vscode-notebook-cell:/home/shreeya/acad/4-2/dvd/project/mine/DVD-Project-2/ml_model/reptile.ipynb#X64sZmlsZQ%3D%3D?line=22'>23</a>\u001b[0m                \u001b[39mfor\u001b[39;00m i \u001b[39min\u001b[39;00m \u001b[39mrange\u001b[39m(num_hidden_layers \u001b[39m+\u001b[39m \u001b[39m1\u001b[39m)]\n\u001b[0;32m---> <a href='vscode-notebook-cell:/home/shreeya/acad/4-2/dvd/project/mine/DVD-Project-2/ml_model/reptile.ipynb#X64sZmlsZQ%3D%3D?line=23'>24</a>\u001b[0m sess\u001b[39m.\u001b[39mrun(tf\u001b[39m.\u001b[39mvariables_initializer(weights_task \u001b[39m+\u001b[39m biases_task))\n\u001b[1;32m     <a href='vscode-notebook-cell:/home/shreeya/acad/4-2/dvd/project/mine/DVD-Project-2/ml_model/reptile.ipynb#X64sZmlsZQ%3D%3D?line=25'>26</a>\u001b[0m \u001b[39m# Inner loop for gradient updates on tasks\u001b[39;00m\n\u001b[1;32m     <a href='vscode-notebook-cell:/home/shreeya/acad/4-2/dvd/project/mine/DVD-Project-2/ml_model/reptile.ipynb#X64sZmlsZQ%3D%3D?line=26'>27</a>\u001b[0m \u001b[39mfor\u001b[39;00m k \u001b[39min\u001b[39;00m \u001b[39mrange\u001b[39m(num_iterations):\n",
      "File \u001b[0;32m~/anaconda3/lib/python3.11/site-packages/tensorflow/python/client/session.py:972\u001b[0m, in \u001b[0;36mBaseSession.run\u001b[0;34m(self, fetches, feed_dict, options, run_metadata)\u001b[0m\n\u001b[1;32m    969\u001b[0m run_metadata_ptr \u001b[39m=\u001b[39m tf_session\u001b[39m.\u001b[39mTF_NewBuffer() \u001b[39mif\u001b[39;00m run_metadata \u001b[39melse\u001b[39;00m \u001b[39mNone\u001b[39;00m\n\u001b[1;32m    971\u001b[0m \u001b[39mtry\u001b[39;00m:\n\u001b[0;32m--> 972\u001b[0m   result \u001b[39m=\u001b[39m \u001b[39mself\u001b[39m\u001b[39m.\u001b[39m_run(\u001b[39mNone\u001b[39;00m, fetches, feed_dict, options_ptr,\n\u001b[1;32m    973\u001b[0m                      run_metadata_ptr)\n\u001b[1;32m    974\u001b[0m   \u001b[39mif\u001b[39;00m run_metadata:\n\u001b[1;32m    975\u001b[0m     proto_data \u001b[39m=\u001b[39m tf_session\u001b[39m.\u001b[39mTF_GetBuffer(run_metadata_ptr)\n",
      "File \u001b[0;32m~/anaconda3/lib/python3.11/site-packages/tensorflow/python/client/session.py:1215\u001b[0m, in \u001b[0;36mBaseSession._run\u001b[0;34m(self, handle, fetches, feed_dict, options, run_metadata)\u001b[0m\n\u001b[1;32m   1212\u001b[0m \u001b[39m# We only want to really perform the run if fetches or targets are provided,\u001b[39;00m\n\u001b[1;32m   1213\u001b[0m \u001b[39m# or if the call is a partial run that specifies feeds.\u001b[39;00m\n\u001b[1;32m   1214\u001b[0m \u001b[39mif\u001b[39;00m final_fetches \u001b[39mor\u001b[39;00m final_targets \u001b[39mor\u001b[39;00m (handle \u001b[39mand\u001b[39;00m feed_dict_tensor):\n\u001b[0;32m-> 1215\u001b[0m   results \u001b[39m=\u001b[39m \u001b[39mself\u001b[39m\u001b[39m.\u001b[39m_do_run(handle, final_targets, final_fetches,\n\u001b[1;32m   1216\u001b[0m                          feed_dict_tensor, options, run_metadata)\n\u001b[1;32m   1217\u001b[0m \u001b[39melse\u001b[39;00m:\n\u001b[1;32m   1218\u001b[0m   results \u001b[39m=\u001b[39m []\n",
      "File \u001b[0;32m~/anaconda3/lib/python3.11/site-packages/tensorflow/python/client/session.py:1395\u001b[0m, in \u001b[0;36mBaseSession._do_run\u001b[0;34m(self, handle, target_list, fetch_list, feed_dict, options, run_metadata)\u001b[0m\n\u001b[1;32m   1392\u001b[0m   \u001b[39mreturn\u001b[39;00m \u001b[39mself\u001b[39m\u001b[39m.\u001b[39m_call_tf_sessionprun(handle, feed_dict, fetch_list)\n\u001b[1;32m   1394\u001b[0m \u001b[39mif\u001b[39;00m handle \u001b[39mis\u001b[39;00m \u001b[39mNone\u001b[39;00m:\n\u001b[0;32m-> 1395\u001b[0m   \u001b[39mreturn\u001b[39;00m \u001b[39mself\u001b[39m\u001b[39m.\u001b[39m_do_call(_run_fn, feeds, fetches, targets, options,\n\u001b[1;32m   1396\u001b[0m                        run_metadata)\n\u001b[1;32m   1397\u001b[0m \u001b[39melse\u001b[39;00m:\n\u001b[1;32m   1398\u001b[0m   \u001b[39mreturn\u001b[39;00m \u001b[39mself\u001b[39m\u001b[39m.\u001b[39m_do_call(_prun_fn, handle, feeds, fetches)\n",
      "File \u001b[0;32m~/anaconda3/lib/python3.11/site-packages/tensorflow/python/client/session.py:1402\u001b[0m, in \u001b[0;36mBaseSession._do_call\u001b[0;34m(self, fn, *args)\u001b[0m\n\u001b[1;32m   1400\u001b[0m \u001b[39mdef\u001b[39;00m \u001b[39m_do_call\u001b[39m(\u001b[39mself\u001b[39m, fn, \u001b[39m*\u001b[39margs):\n\u001b[1;32m   1401\u001b[0m   \u001b[39mtry\u001b[39;00m:\n\u001b[0;32m-> 1402\u001b[0m     \u001b[39mreturn\u001b[39;00m fn(\u001b[39m*\u001b[39margs)\n\u001b[1;32m   1403\u001b[0m   \u001b[39mexcept\u001b[39;00m errors\u001b[39m.\u001b[39mOpError \u001b[39mas\u001b[39;00m e:\n\u001b[1;32m   1404\u001b[0m     message \u001b[39m=\u001b[39m compat\u001b[39m.\u001b[39mas_text(e\u001b[39m.\u001b[39mmessage)\n",
      "File \u001b[0;32m~/anaconda3/lib/python3.11/site-packages/tensorflow/python/client/session.py:1384\u001b[0m, in \u001b[0;36mBaseSession._do_run.<locals>._run_fn\u001b[0;34m(feed_dict, fetch_list, target_list, options, run_metadata)\u001b[0m\n\u001b[1;32m   1382\u001b[0m \u001b[39mdef\u001b[39;00m \u001b[39m_run_fn\u001b[39m(feed_dict, fetch_list, target_list, options, run_metadata):\n\u001b[1;32m   1383\u001b[0m   \u001b[39m# Ensure any changes to the graph are reflected in the runtime.\u001b[39;00m\n\u001b[0;32m-> 1384\u001b[0m   \u001b[39mself\u001b[39m\u001b[39m.\u001b[39m_extend_graph()\n\u001b[1;32m   1385\u001b[0m   \u001b[39mreturn\u001b[39;00m \u001b[39mself\u001b[39m\u001b[39m.\u001b[39m_call_tf_sessionrun(options, feed_dict, fetch_list,\n\u001b[1;32m   1386\u001b[0m                                   target_list, run_metadata)\n",
      "File \u001b[0;32m~/anaconda3/lib/python3.11/site-packages/tensorflow/python/client/session.py:1425\u001b[0m, in \u001b[0;36mBaseSession._extend_graph\u001b[0;34m(self)\u001b[0m\n\u001b[1;32m   1423\u001b[0m \u001b[39mdef\u001b[39;00m \u001b[39m_extend_graph\u001b[39m(\u001b[39mself\u001b[39m):\n\u001b[1;32m   1424\u001b[0m   \u001b[39mwith\u001b[39;00m \u001b[39mself\u001b[39m\u001b[39m.\u001b[39m_graph\u001b[39m.\u001b[39m_session_run_lock():  \u001b[39m# pylint: disable=protected-access\u001b[39;00m\n\u001b[0;32m-> 1425\u001b[0m     tf_session\u001b[39m.\u001b[39mExtendSession(\u001b[39mself\u001b[39m\u001b[39m.\u001b[39m_session)\n",
      "\u001b[0;31mKeyboardInterrupt\u001b[0m: "
     ]
    }
   ],
   "source": [
    "# Initialize empty lists to store loss and R2 scores\n",
    "losses = []\n",
    "r2_scores = []\n",
    "# Initialize phi (meta-parameters)\n",
    "phi_init = None\n",
    "\n",
    "# Training loop\n",
    "with tf.Session() as sess:\n",
    "    sess.run(init)\n",
    "    \n",
    "    for e in range(num_epochs+1):\n",
    "        for _ in range(num_tasks+1):  # Iterate over a new set of tasks in each epoch\n",
    "            # Sample a new task batch (τ1, τ2, ..., τn)\n",
    "            task_indices = np.random.choice(len(x), size=num_samples, replace=False)\n",
    "            x_sample_task = x[task_indices]\n",
    "            y_sample_task = y[task_indices]\n",
    "            \n",
    "            # Randomly initialize weights (w) for each task\n",
    "            weights_task = [tf.Variable(tf.random_uniform([num_feature if i == 0 else num_hidden_units,\n",
    "                                                           num_hidden_units if i < num_hidden_layers else num_classes]))\n",
    "                            for i in range(num_hidden_layers + 1)]\n",
    "            biases_task = [tf.Variable(tf.random_uniform([num_hidden_units if i < num_hidden_layers else num_classes]))\n",
    "                           for i in range(num_hidden_layers + 1)]\n",
    "            sess.run(tf.variables_initializer(weights_task + biases_task))\n",
    "            \n",
    "            # Inner loop for gradient updates on tasks\n",
    "            for k in range(num_iterations):\n",
    "                for i in range(0, num_samples, mini_batch):\n",
    "                    x_minibatch = x_sample_task[i:i+mini_batch]\n",
    "                    y_minibatch = y_sample_task[i:i+mini_batch]\n",
    "                    sess.run(optimizer, feed_dict={X: x_minibatch, Y: y_minibatch})\n",
    "            \n",
    "            # Get the updated weights (w) after SGD on the task\n",
    "            w_updated = sess.run(weights_task + biases_task)\n",
    "            \n",
    "            # Update phi using Reptile update rule\n",
    "            if phi_init is None:\n",
    "                phi_init = w_updated  # Initialize phi on the first iteration\n",
    "            else:\n",
    "                for i in range(len(phi_init)):\n",
    "                    phi_init[i] += epsilon * (w_updated[i] - phi_init[i])\n",
    "\n",
    "        loss = sess.run(loss_function, feed_dict={X: x_sample_task, Y: y_sample_task})\n",
    "        losses.append(loss)\n",
    "        y_pred = sess.run(Yhat, feed_dict={X: x_sample_task})\n",
    "        r2 = r2_score(y_sample_task, y_pred)\n",
    "        r2_scores.append(r2)\n",
    "        if e % 10 == 0:\n",
    "            print(\"Epoch {}: Loss {}, R2 Score {}\\n\".format(e, loss, r2))\n",
    "            print('---------------------------------\\n')\n"
   ]
  },
  {
   "cell_type": "code",
   "execution_count": null,
   "metadata": {},
   "outputs": [
    {
     "data": {
      "image/png": "[encoded data removed]",
      "text/plain": [
       "<Figure size 1000x500 with 2 Axes>"
      ]
     },
     "metadata": {},
     "output_type": "display_data"
    }
   ],
   "source": [
    "# Plotting the learning curve and R2 scores\n",
    "plt.figure(figsize=(10, 5))\n",
    "\n",
    "# Learning Curve\n",
    "plt.subplot(1, 2, 1)\n",
    "plt.plot(range(num_epochs), losses, label='Training Loss')\n",
    "plt.xlabel('Epochs')\n",
    "plt.ylabel('Loss')\n",
    "plt.title('Learning Curve')\n",
    "plt.legend()\n",
    "\n",
    "# R2 Scores\n",
    "plt.subplot(1, 2, 2)\n",
    "plt.plot(range(num_epochs), r2_scores, label='R2 Score', color='orange')\n",
    "plt.xlabel('Epochs')\n",
    "plt.ylabel('R2 Score')\n",
    "plt.title('R2 Score')\n",
    "plt.legend()\n",
    "\n",
    "plt.tight_layout()\n",
    "plt.show()"
   ]
  }
 ],
 "metadata": {
  "kernelspec": {
   "display_name": "Python 3",
   "language": "python",
   "name": "python3"
  },
  "language_info": {
   "codemirror_mode": {
    "name": "ipython",
    "version": 3
   },
   "file_extension": ".py",
   "mimetype": "text/x-python",
   "name": "python",
   "nbconvert_exporter": "python",
   "pygments_lexer": "ipython3",
   "version": "3.11.5"
  }
 },
 "nbformat": 4,
 "nbformat_minor": 2
}
